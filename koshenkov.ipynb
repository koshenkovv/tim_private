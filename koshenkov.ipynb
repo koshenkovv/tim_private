{
 "cells": [
  {
   "cell_type": "markdown",
   "id": "c853bcfe",
   "metadata": {},
   "source": [
    "Задание №1"
   ]
  },
  {
   "cell_type": "code",
   "execution_count": 1,
   "id": "589ed5a7",
   "metadata": {},
   "outputs": [],
   "source": [
    "import pandas as pd\n",
    "import matplotlib.pyplot as plt\n",
    "import seaborn as sns"
   ]
  },
  {
   "cell_type": "code",
   "execution_count": 2,
   "id": "d69c45bb",
   "metadata": {},
   "outputs": [],
   "source": [
    "df = pd.read_csv('list1.csv',encoding='cp1251',delimiter=';')"
   ]
  },
  {
   "cell_type": "code",
   "execution_count": 3,
   "id": "36a6954f",
   "metadata": {},
   "outputs": [],
   "source": [
    "df['Картофель'] = df['Картофель'].str.replace(',','.')"
   ]
  },
  {
   "cell_type": "code",
   "execution_count": 4,
   "id": "ea8d55b2",
   "metadata": {},
   "outputs": [
    {
     "data": {
      "text/html": [
       "<div>\n",
       "<style scoped>\n",
       "    .dataframe tbody tr th:only-of-type {\n",
       "        vertical-align: middle;\n",
       "    }\n",
       "\n",
       "    .dataframe tbody tr th {\n",
       "        vertical-align: top;\n",
       "    }\n",
       "\n",
       "    .dataframe thead th {\n",
       "        text-align: right;\n",
       "    }\n",
       "</style>\n",
       "<table border=\"1\" class=\"dataframe\">\n",
       "  <thead>\n",
       "    <tr style=\"text-align: right;\">\n",
       "      <th></th>\n",
       "      <th>Год</th>\n",
       "      <th>Картофель</th>\n",
       "    </tr>\n",
       "  </thead>\n",
       "  <tbody>\n",
       "    <tr>\n",
       "      <th>0</th>\n",
       "      <td>1991</td>\n",
       "      <td>4102.0</td>\n",
       "    </tr>\n",
       "    <tr>\n",
       "      <th>1</th>\n",
       "      <td>1992</td>\n",
       "      <td>2730.4</td>\n",
       "    </tr>\n",
       "    <tr>\n",
       "      <th>2</th>\n",
       "      <td>1993</td>\n",
       "      <td>2130.8</td>\n",
       "    </tr>\n",
       "    <tr>\n",
       "      <th>3</th>\n",
       "      <td>1994</td>\n",
       "      <td>1350.5</td>\n",
       "    </tr>\n",
       "    <tr>\n",
       "      <th>4</th>\n",
       "      <td>1995</td>\n",
       "      <td>1161.8</td>\n",
       "    </tr>\n",
       "    <tr>\n",
       "      <th>5</th>\n",
       "      <td>1996</td>\n",
       "      <td>1156.5</td>\n",
       "    </tr>\n",
       "    <tr>\n",
       "      <th>6</th>\n",
       "      <td>1997</td>\n",
       "      <td>1058.9</td>\n",
       "    </tr>\n",
       "    <tr>\n",
       "      <th>7</th>\n",
       "      <td>1998</td>\n",
       "      <td>1123.6</td>\n",
       "    </tr>\n",
       "    <tr>\n",
       "      <th>8</th>\n",
       "      <td>1999</td>\n",
       "      <td>891.4</td>\n",
       "    </tr>\n",
       "    <tr>\n",
       "      <th>9</th>\n",
       "      <td>2000</td>\n",
       "      <td>855.7</td>\n",
       "    </tr>\n",
       "    <tr>\n",
       "      <th>10</th>\n",
       "      <td>2001</td>\n",
       "      <td>951.0</td>\n",
       "    </tr>\n",
       "    <tr>\n",
       "      <th>11</th>\n",
       "      <td>2002</td>\n",
       "      <td>942.9</td>\n",
       "    </tr>\n",
       "    <tr>\n",
       "      <th>12</th>\n",
       "      <td>2003</td>\n",
       "      <td>846.1</td>\n",
       "    </tr>\n",
       "    <tr>\n",
       "      <th>13</th>\n",
       "      <td>2004</td>\n",
       "      <td>1050.4</td>\n",
       "    </tr>\n",
       "    <tr>\n",
       "      <th>14</th>\n",
       "      <td>2005</td>\n",
       "      <td>1275.0</td>\n",
       "    </tr>\n",
       "    <tr>\n",
       "      <th>15</th>\n",
       "      <td>2006</td>\n",
       "      <td>1469.0</td>\n",
       "    </tr>\n",
       "    <tr>\n",
       "      <th>16</th>\n",
       "      <td>2007</td>\n",
       "      <td>1742.0</td>\n",
       "    </tr>\n",
       "    <tr>\n",
       "      <th>17</th>\n",
       "      <td>2008</td>\n",
       "      <td>1948.0</td>\n",
       "    </tr>\n",
       "    <tr>\n",
       "      <th>18</th>\n",
       "      <td>2009</td>\n",
       "      <td>2098.0</td>\n",
       "    </tr>\n",
       "    <tr>\n",
       "      <th>19</th>\n",
       "      <td>2010</td>\n",
       "      <td>1890.0</td>\n",
       "    </tr>\n",
       "    <tr>\n",
       "      <th>20</th>\n",
       "      <td>2011</td>\n",
       "      <td>1827.0</td>\n",
       "    </tr>\n",
       "    <tr>\n",
       "      <th>21</th>\n",
       "      <td>2012</td>\n",
       "      <td>2367.0</td>\n",
       "    </tr>\n",
       "    <tr>\n",
       "      <th>22</th>\n",
       "      <td>2013</td>\n",
       "      <td>2335.0</td>\n",
       "    </tr>\n",
       "    <tr>\n",
       "      <th>23</th>\n",
       "      <td>2014</td>\n",
       "      <td>2255.0</td>\n",
       "    </tr>\n",
       "    <tr>\n",
       "      <th>24</th>\n",
       "      <td>2015</td>\n",
       "      <td>2575.0</td>\n",
       "    </tr>\n",
       "    <tr>\n",
       "      <th>25</th>\n",
       "      <td>2016</td>\n",
       "      <td>2851.0</td>\n",
       "    </tr>\n",
       "    <tr>\n",
       "      <th>26</th>\n",
       "      <td>2017</td>\n",
       "      <td>2782.0</td>\n",
       "    </tr>\n",
       "    <tr>\n",
       "      <th>27</th>\n",
       "      <td>2018</td>\n",
       "      <td>2726.0</td>\n",
       "    </tr>\n",
       "    <tr>\n",
       "      <th>28</th>\n",
       "      <td>2019</td>\n",
       "      <td>2772.0</td>\n",
       "    </tr>\n",
       "  </tbody>\n",
       "</table>\n",
       "</div>"
      ],
      "text/plain": [
       "     Год  Картофель\n",
       "0   1991     4102.0\n",
       "1   1992     2730.4\n",
       "2   1993     2130.8\n",
       "3   1994     1350.5\n",
       "4   1995     1161.8\n",
       "5   1996     1156.5\n",
       "6   1997     1058.9\n",
       "7   1998     1123.6\n",
       "8   1999      891.4\n",
       "9   2000      855.7\n",
       "10  2001      951.0\n",
       "11  2002      942.9\n",
       "12  2003      846.1\n",
       "13  2004     1050.4\n",
       "14  2005     1275.0\n",
       "15  2006     1469.0\n",
       "16  2007     1742.0\n",
       "17  2008     1948.0\n",
       "18  2009     2098.0\n",
       "19  2010     1890.0\n",
       "20  2011     1827.0\n",
       "21  2012     2367.0\n",
       "22  2013     2335.0\n",
       "23  2014     2255.0\n",
       "24  2015     2575.0\n",
       "25  2016     2851.0\n",
       "26  2017     2782.0\n",
       "27  2018     2726.0\n",
       "28  2019     2772.0"
      ]
     },
     "execution_count": 4,
     "metadata": {},
     "output_type": "execute_result"
    }
   ],
   "source": [
    "df['Год'] = df['Год'].astype(int)\n",
    "df['Картофель'] = df['Картофель'].astype(float)\n",
    "df"
   ]
  },
  {
   "cell_type": "code",
   "execution_count": 5,
   "id": "d44551a5",
   "metadata": {},
   "outputs": [
    {
     "data": {
      "text/plain": [
       "<AxesSubplot:title={'center':'Реализация продуктов растениеводства сельскохозяйственными организациями'}, xlabel='Год'>"
      ]
     },
     "execution_count": 5,
     "metadata": {},
     "output_type": "execute_result"
    },
    {
     "data": {
      "image/png": "[encoded data removed]",
      "text/plain": [
       "<Figure size 432x288 with 1 Axes>"
      ]
     },
     "metadata": {
      "needs_background": "light"
     },
     "output_type": "display_data"
    }
   ],
   "source": [
    "df.plot(x=\"Год\", y=[\"Картофель\"],title='Реализация продуктов растениеводства сельскохозяйственными организациями',linestyle=\"-.\",color='purple',grid='True')"
   ]
  },
  {
   "cell_type": "markdown",
   "id": "0e81f3cb",
   "metadata": {},
   "source": [
    "Задание №2"
   ]
  },
  {
   "cell_type": "code",
   "execution_count": 39,
   "id": "a2a3c0e0",
   "metadata": {},
   "outputs": [],
   "source": [
    "df2 = pd.read_csv('list2.csv',encoding='cp1251',delimiter=';')"
   ]
  },
  {
   "cell_type": "code",
   "execution_count": 53,
   "id": "3e4166d9",
   "metadata": {},
   "outputs": [
    {
     "data": {
      "text/plain": [
       "<BarContainer object of 15 artists>"
      ]
     },
     "execution_count": 53,
     "metadata": {},
     "output_type": "execute_result"
    },
    {
     "data": {
      "image/png": "[encoded data removed]",
      "text/plain": [
       "<Figure size 1080x360 with 1 Axes>"
      ]
     },
     "metadata": {
      "needs_background": "light"
     },
     "output_type": "display_data"
    }
   ],
   "source": [
    "x2 = df2['Интервалы по возрасту']\n",
    "y2 = df2['Румыния']\n",
    "\n",
    "plt.figure(figsize=(15, 5))\n",
    "plt.title('Распределение населения по возрастным группам по странам мира')\n",
    "plt.xlabel('Интервалы по возрасту')\n",
    "plt.bar(x2,y2,color='blue')"
   ]
  },
  {
   "cell_type": "markdown",
   "id": "7c175a23",
   "metadata": {},
   "source": [
    "Задание №3"
   ]
  },
  {
   "cell_type": "code",
   "execution_count": 43,
   "id": "db0de34d",
   "metadata": {},
   "outputs": [
    {
     "data": {
      "text/html": [
       "<div>\n",
       "<style scoped>\n",
       "    .dataframe tbody tr th:only-of-type {\n",
       "        vertical-align: middle;\n",
       "    }\n",
       "\n",
       "    .dataframe tbody tr th {\n",
       "        vertical-align: top;\n",
       "    }\n",
       "\n",
       "    .dataframe thead th {\n",
       "        text-align: right;\n",
       "    }\n",
       "</style>\n",
       "<table border=\"1\" class=\"dataframe\">\n",
       "  <thead>\n",
       "    <tr style=\"text-align: right;\">\n",
       "      <th></th>\n",
       "      <th>Номер предприятия</th>\n",
       "      <th>Выручка в расчете на 100 га с.-х. угодий, тыс. руб.</th>\n",
       "      <th>Численность работников  в расчете на 100 га с.-х. угодий, чел.</th>\n",
       "    </tr>\n",
       "  </thead>\n",
       "  <tbody>\n",
       "    <tr>\n",
       "      <th>0</th>\n",
       "      <td>1</td>\n",
       "      <td>1193</td>\n",
       "      <td>1</td>\n",
       "    </tr>\n",
       "    <tr>\n",
       "      <th>1</th>\n",
       "      <td>2</td>\n",
       "      <td>1255,6</td>\n",
       "      <td>1</td>\n",
       "    </tr>\n",
       "    <tr>\n",
       "      <th>2</th>\n",
       "      <td>3</td>\n",
       "      <td>3088,3</td>\n",
       "      <td>2</td>\n",
       "    </tr>\n",
       "    <tr>\n",
       "      <th>3</th>\n",
       "      <td>4</td>\n",
       "      <td>2626,6</td>\n",
       "      <td>1</td>\n",
       "    </tr>\n",
       "    <tr>\n",
       "      <th>4</th>\n",
       "      <td>5</td>\n",
       "      <td>4557,3</td>\n",
       "      <td>4</td>\n",
       "    </tr>\n",
       "    <tr>\n",
       "      <th>5</th>\n",
       "      <td>6</td>\n",
       "      <td>7614,8</td>\n",
       "      <td>6</td>\n",
       "    </tr>\n",
       "    <tr>\n",
       "      <th>6</th>\n",
       "      <td>7</td>\n",
       "      <td>3958,3</td>\n",
       "      <td>1</td>\n",
       "    </tr>\n",
       "    <tr>\n",
       "      <th>7</th>\n",
       "      <td>8</td>\n",
       "      <td>2866</td>\n",
       "      <td>3</td>\n",
       "    </tr>\n",
       "    <tr>\n",
       "      <th>8</th>\n",
       "      <td>9</td>\n",
       "      <td>5917,9</td>\n",
       "      <td>3</td>\n",
       "    </tr>\n",
       "    <tr>\n",
       "      <th>9</th>\n",
       "      <td>10</td>\n",
       "      <td>4855,4</td>\n",
       "      <td>2</td>\n",
       "    </tr>\n",
       "    <tr>\n",
       "      <th>10</th>\n",
       "      <td>11</td>\n",
       "      <td>4433,1</td>\n",
       "      <td>3</td>\n",
       "    </tr>\n",
       "    <tr>\n",
       "      <th>11</th>\n",
       "      <td>12</td>\n",
       "      <td>4466,3</td>\n",
       "      <td>4</td>\n",
       "    </tr>\n",
       "    <tr>\n",
       "      <th>12</th>\n",
       "      <td>13</td>\n",
       "      <td>8327,1</td>\n",
       "      <td>7</td>\n",
       "    </tr>\n",
       "    <tr>\n",
       "      <th>13</th>\n",
       "      <td>14</td>\n",
       "      <td>4916,9</td>\n",
       "      <td>4</td>\n",
       "    </tr>\n",
       "    <tr>\n",
       "      <th>14</th>\n",
       "      <td>15</td>\n",
       "      <td>3735,8</td>\n",
       "      <td>2</td>\n",
       "    </tr>\n",
       "  </tbody>\n",
       "</table>\n",
       "</div>"
      ],
      "text/plain": [
       "    Номер предприятия Выручка в расчете на 100 га с.-х. угодий, тыс. руб.  \\\n",
       "0                   1                                               1193    \n",
       "1                   2                                             1255,6    \n",
       "2                   3                                             3088,3    \n",
       "3                   4                                             2626,6    \n",
       "4                   5                                             4557,3    \n",
       "5                   6                                             7614,8    \n",
       "6                   7                                             3958,3    \n",
       "7                   8                                               2866    \n",
       "8                   9                                             5917,9    \n",
       "9                  10                                             4855,4    \n",
       "10                 11                                             4433,1    \n",
       "11                 12                                             4466,3    \n",
       "12                 13                                             8327,1    \n",
       "13                 14                                             4916,9    \n",
       "14                 15                                             3735,8    \n",
       "\n",
       "    Численность работников  в расчете на 100 га с.-х. угодий, чел.  \n",
       "0                                                   1               \n",
       "1                                                   1               \n",
       "2                                                   2               \n",
       "3                                                   1               \n",
       "4                                                   4               \n",
       "5                                                   6               \n",
       "6                                                   1               \n",
       "7                                                   3               \n",
       "8                                                   3               \n",
       "9                                                   2               \n",
       "10                                                  3               \n",
       "11                                                  4               \n",
       "12                                                  7               \n",
       "13                                                  4               \n",
       "14                                                  2               "
      ]
     },
     "execution_count": 43,
     "metadata": {},
     "output_type": "execute_result"
    }
   ],
   "source": [
    "df3 = pd.read_csv('list3.csv',encoding='cp1251',delimiter=';')\n",
    "df3"
   ]
  },
  {
   "cell_type": "code",
   "execution_count": 46,
   "id": "175e6a7d",
   "metadata": {},
   "outputs": [],
   "source": [
    "x3 = df3['Численность работников  в расчете на 100 га с.-х. угодий, чел.']\n",
    "y3 = df3['Выручка в расчете на 100 га с.-х. угодий, тыс. руб.']"
   ]
  },
  {
   "cell_type": "code",
   "execution_count": 51,
   "id": "18f20809",
   "metadata": {},
   "outputs": [
    {
     "data": {
      "text/plain": [
       "<matplotlib.collections.PathCollection at 0x1796abf87f0>"
      ]
     },
     "execution_count": 51,
     "metadata": {},
     "output_type": "execute_result"
    },
    {
     "data": {
      "image/png": "[encoded data removed]",
      "text/plain": [
       "<Figure size 720x360 with 1 Axes>"
      ]
     },
     "metadata": {
      "needs_background": "light"
     },
     "output_type": "display_data"
    }
   ],
   "source": [
    "plt.figure(figsize=(10, 5))\n",
    "plt.title('Характеристика сельскохозяйственных предприятий Краснодарского края, 2013 г.')\n",
    "plt.xlabel('Численность работников  в расчете на 100 га с.-х. угодий, чел.')\n",
    "plt.ylabel('Выручка в расчете на 100 га с.-х. угодий, тыс. руб.')\n",
    "plt.scatter(x3,y3,color='red',marker='*')"
   ]
  },
  {
   "cell_type": "markdown",
   "id": "8579d936",
   "metadata": {},
   "source": [
    "Задание 4"
   ]
  },
  {
   "cell_type": "code",
   "execution_count": null,
   "id": "93124042",
   "metadata": {},
   "outputs": [],
   "source": []
  }
 ],
 "metadata": {
  "kernelspec": {
   "display_name": "Python 3 (ipykernel)",
   "language": "python",
   "name": "python3"
  },
  "language_info": {
   "codemirror_mode": {
    "name": "ipython",
    "version": 3
   },
   "file_extension": ".py",
   "mimetype": "text/x-python",
   "name": "python",
   "nbconvert_exporter": "python",
   "pygments_lexer": "ipython3",
   "version": "3.9.12"
  }
 },
 "nbformat": 4,
 "nbformat_minor": 5
}

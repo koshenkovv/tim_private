{
 "cells": [
  {
   "cell_type": "markdown",
   "metadata": {},
   "source": [
    "# Визуализация"
   ]
  },
  {
   "cell_type": "code",
   "execution_count": 1,
   "metadata": {},
   "outputs": [],
   "source": [
    "import pandas as pd\n",
    "from matplotlib import pyplot\n",
    "import seaborn as sns"
   ]
  },
  {
   "cell_type": "code",
   "execution_count": 2,
   "metadata": {},
   "outputs": [],
   "source": [
    "df = pd.read_csv('dfMoscow7Cls.csv')\n",
    "# df = df.drop(['Unnamed: 0'], axis = 1)"
   ]
  },
  {
   "cell_type": "code",
   "execution_count": 3,
   "metadata": {
    "scrolled": true
   },
   "outputs": [
    {
     "data": {
      "text/html": [
       "<div>\n",
       "<style scoped>\n",
       "    .dataframe tbody tr th:only-of-type {\n",
       "        vertical-align: middle;\n",
       "    }\n",
       "\n",
       "    .dataframe tbody tr th {\n",
       "        vertical-align: top;\n",
       "    }\n",
       "\n",
       "    .dataframe thead th {\n",
       "        text-align: right;\n",
       "    }\n",
       "</style>\n",
       "<table border=\"1\" class=\"dataframe\">\n",
       "  <thead>\n",
       "    <tr style=\"text-align: right;\">\n",
       "      <th></th>\n",
       "      <th>Адрес</th>\n",
       "      <th>Район</th>\n",
       "      <th>Кол-во ДТП по данному адресу</th>\n",
       "      <th>Отношение кол-ва ДТП по данному адресу ко всем ДТП в Москве</th>\n",
       "      <th>Легкий</th>\n",
       "      <th>Тяжёлый</th>\n",
       "      <th>С погибшими</th>\n",
       "      <th>Иной вид ДТП</th>\n",
       "      <th>Наезд на велосипедиста</th>\n",
       "      <th>Наезд на пешехода</th>\n",
       "      <th>...</th>\n",
       "      <th>Наезд на стоящее ТС</th>\n",
       "      <th>Опрокидывание</th>\n",
       "      <th>Падение пассажира</th>\n",
       "      <th>Столкновение</th>\n",
       "      <th>Съезд с дороги</th>\n",
       "      <th>Широта</th>\n",
       "      <th>Долгота</th>\n",
       "      <th>Среднее значение тяжести</th>\n",
       "      <th>Индекс</th>\n",
       "      <th>Класс опасности</th>\n",
       "    </tr>\n",
       "  </thead>\n",
       "  <tbody>\n",
       "    <tr>\n",
       "      <th>0</th>\n",
       "      <td>г Москва, Московская кольцевая автомобильная д...</td>\n",
       "      <td>Чертаново Южное</td>\n",
       "      <td>14</td>\n",
       "      <td>0.000133</td>\n",
       "      <td>9</td>\n",
       "      <td>5</td>\n",
       "      <td>0</td>\n",
       "      <td>0</td>\n",
       "      <td>0</td>\n",
       "      <td>0</td>\n",
       "      <td>...</td>\n",
       "      <td>3</td>\n",
       "      <td>0</td>\n",
       "      <td>0</td>\n",
       "      <td>11</td>\n",
       "      <td>0</td>\n",
       "      <td>55.579467</td>\n",
       "      <td>37.583253</td>\n",
       "      <td>1.357143</td>\n",
       "      <td>19</td>\n",
       "      <td>2</td>\n",
       "    </tr>\n",
       "    <tr>\n",
       "      <th>1</th>\n",
       "      <td>г Москва, ш Ярославское, 1</td>\n",
       "      <td>Ярославский</td>\n",
       "      <td>10</td>\n",
       "      <td>0.000095</td>\n",
       "      <td>100</td>\n",
       "      <td>13</td>\n",
       "      <td>6</td>\n",
       "      <td>0</td>\n",
       "      <td>1</td>\n",
       "      <td>24</td>\n",
       "      <td>...</td>\n",
       "      <td>2</td>\n",
       "      <td>2</td>\n",
       "      <td>8</td>\n",
       "      <td>66</td>\n",
       "      <td>0</td>\n",
       "      <td>55.871109</td>\n",
       "      <td>37.711612</td>\n",
       "      <td>1.210084</td>\n",
       "      <td>12</td>\n",
       "      <td>2</td>\n",
       "    </tr>\n",
       "    <tr>\n",
       "      <th>2</th>\n",
       "      <td>г Москва, Московская кольцевая автомобильная д...</td>\n",
       "      <td>Восточное Измайлово</td>\n",
       "      <td>22</td>\n",
       "      <td>0.000210</td>\n",
       "      <td>17</td>\n",
       "      <td>3</td>\n",
       "      <td>2</td>\n",
       "      <td>2</td>\n",
       "      <td>0</td>\n",
       "      <td>1</td>\n",
       "      <td>...</td>\n",
       "      <td>6</td>\n",
       "      <td>0</td>\n",
       "      <td>1</td>\n",
       "      <td>9</td>\n",
       "      <td>0</td>\n",
       "      <td>55.800340</td>\n",
       "      <td>37.839965</td>\n",
       "      <td>1.318182</td>\n",
       "      <td>29</td>\n",
       "      <td>3</td>\n",
       "    </tr>\n",
       "    <tr>\n",
       "      <th>3</th>\n",
       "      <td>г Москва, Московская кольцевая автомобильная д...</td>\n",
       "      <td>Строгино</td>\n",
       "      <td>20</td>\n",
       "      <td>0.000191</td>\n",
       "      <td>16</td>\n",
       "      <td>4</td>\n",
       "      <td>0</td>\n",
       "      <td>0</td>\n",
       "      <td>0</td>\n",
       "      <td>0</td>\n",
       "      <td>...</td>\n",
       "      <td>3</td>\n",
       "      <td>0</td>\n",
       "      <td>0</td>\n",
       "      <td>16</td>\n",
       "      <td>0</td>\n",
       "      <td>55.797798</td>\n",
       "      <td>37.380348</td>\n",
       "      <td>1.200000</td>\n",
       "      <td>24</td>\n",
       "      <td>2</td>\n",
       "    </tr>\n",
       "    <tr>\n",
       "      <th>4</th>\n",
       "      <td>г Москва, ш Носовихинское, 1км</td>\n",
       "      <td>Новокосино</td>\n",
       "      <td>6</td>\n",
       "      <td>0.000057</td>\n",
       "      <td>5</td>\n",
       "      <td>0</td>\n",
       "      <td>1</td>\n",
       "      <td>0</td>\n",
       "      <td>0</td>\n",
       "      <td>0</td>\n",
       "      <td>...</td>\n",
       "      <td>1</td>\n",
       "      <td>0</td>\n",
       "      <td>0</td>\n",
       "      <td>4</td>\n",
       "      <td>0</td>\n",
       "      <td>55.744075</td>\n",
       "      <td>37.843950</td>\n",
       "      <td>1.333333</td>\n",
       "      <td>8</td>\n",
       "      <td>1</td>\n",
       "    </tr>\n",
       "    <tr>\n",
       "      <th>...</th>\n",
       "      <td>...</td>\n",
       "      <td>...</td>\n",
       "      <td>...</td>\n",
       "      <td>...</td>\n",
       "      <td>...</td>\n",
       "      <td>...</td>\n",
       "      <td>...</td>\n",
       "      <td>...</td>\n",
       "      <td>...</td>\n",
       "      <td>...</td>\n",
       "      <td>...</td>\n",
       "      <td>...</td>\n",
       "      <td>...</td>\n",
       "      <td>...</td>\n",
       "      <td>...</td>\n",
       "      <td>...</td>\n",
       "      <td>...</td>\n",
       "      <td>...</td>\n",
       "      <td>...</td>\n",
       "      <td>...</td>\n",
       "      <td>...</td>\n",
       "    </tr>\n",
       "    <tr>\n",
       "      <th>4076</th>\n",
       "      <td>г Балашиха, ул Звездная, 4</td>\n",
       "      <td>Балашиха</td>\n",
       "      <td>6</td>\n",
       "      <td>0.000057</td>\n",
       "      <td>4</td>\n",
       "      <td>2</td>\n",
       "      <td>0</td>\n",
       "      <td>0</td>\n",
       "      <td>1</td>\n",
       "      <td>5</td>\n",
       "      <td>...</td>\n",
       "      <td>0</td>\n",
       "      <td>0</td>\n",
       "      <td>0</td>\n",
       "      <td>0</td>\n",
       "      <td>0</td>\n",
       "      <td>55.821261</td>\n",
       "      <td>37.835578</td>\n",
       "      <td>1.333333</td>\n",
       "      <td>8</td>\n",
       "      <td>1</td>\n",
       "    </tr>\n",
       "    <tr>\n",
       "      <th>4077</th>\n",
       "      <td>г Балашиха, А-103 Щелковское шоссе Москва - Ще...</td>\n",
       "      <td>Балашиха</td>\n",
       "      <td>10</td>\n",
       "      <td>0.000095</td>\n",
       "      <td>5</td>\n",
       "      <td>5</td>\n",
       "      <td>0</td>\n",
       "      <td>0</td>\n",
       "      <td>0</td>\n",
       "      <td>3</td>\n",
       "      <td>...</td>\n",
       "      <td>0</td>\n",
       "      <td>0</td>\n",
       "      <td>1</td>\n",
       "      <td>6</td>\n",
       "      <td>0</td>\n",
       "      <td>55.825600</td>\n",
       "      <td>37.890800</td>\n",
       "      <td>1.500000</td>\n",
       "      <td>15</td>\n",
       "      <td>2</td>\n",
       "    </tr>\n",
       "    <tr>\n",
       "      <th>4078</th>\n",
       "      <td>г Балашиха, ул Текстильщиков, 15</td>\n",
       "      <td>Балашиха</td>\n",
       "      <td>7</td>\n",
       "      <td>0.000067</td>\n",
       "      <td>4</td>\n",
       "      <td>3</td>\n",
       "      <td>0</td>\n",
       "      <td>0</td>\n",
       "      <td>0</td>\n",
       "      <td>1</td>\n",
       "      <td>...</td>\n",
       "      <td>0</td>\n",
       "      <td>0</td>\n",
       "      <td>0</td>\n",
       "      <td>6</td>\n",
       "      <td>0</td>\n",
       "      <td>55.812436</td>\n",
       "      <td>37.965840</td>\n",
       "      <td>1.428571</td>\n",
       "      <td>10</td>\n",
       "      <td>1</td>\n",
       "    </tr>\n",
       "    <tr>\n",
       "      <th>4079</th>\n",
       "      <td>г Балашиха, MКАД-ЖЕЛЕЗНОДОРОЖНЫЙ-ЛИКИНО-ДУЛЕВО...</td>\n",
       "      <td>Балашиха</td>\n",
       "      <td>8</td>\n",
       "      <td>0.000076</td>\n",
       "      <td>3</td>\n",
       "      <td>4</td>\n",
       "      <td>1</td>\n",
       "      <td>0</td>\n",
       "      <td>0</td>\n",
       "      <td>2</td>\n",
       "      <td>...</td>\n",
       "      <td>1</td>\n",
       "      <td>0</td>\n",
       "      <td>0</td>\n",
       "      <td>5</td>\n",
       "      <td>0</td>\n",
       "      <td>55.753091</td>\n",
       "      <td>38.096150</td>\n",
       "      <td>1.750000</td>\n",
       "      <td>14</td>\n",
       "      <td>2</td>\n",
       "    </tr>\n",
       "    <tr>\n",
       "      <th>4080</th>\n",
       "      <td>г Балашиха, МКАД-Крутицы-Железнодорожный-Ликин...</td>\n",
       "      <td>Балашиха</td>\n",
       "      <td>5</td>\n",
       "      <td>0.000048</td>\n",
       "      <td>0</td>\n",
       "      <td>4</td>\n",
       "      <td>1</td>\n",
       "      <td>0</td>\n",
       "      <td>0</td>\n",
       "      <td>0</td>\n",
       "      <td>...</td>\n",
       "      <td>0</td>\n",
       "      <td>1</td>\n",
       "      <td>0</td>\n",
       "      <td>4</td>\n",
       "      <td>0</td>\n",
       "      <td>55.735919</td>\n",
       "      <td>38.073206</td>\n",
       "      <td>2.200000</td>\n",
       "      <td>11</td>\n",
       "      <td>1</td>\n",
       "    </tr>\n",
       "  </tbody>\n",
       "</table>\n",
       "<p>4081 rows × 21 columns</p>\n",
       "</div>"
      ],
      "text/plain": [
       "                                                  Адрес                Район  \\\n",
       "0     г Москва, Московская кольцевая автомобильная д...      Чертаново Южное   \n",
       "1                            г Москва, ш Ярославское, 1          Ярославский   \n",
       "2     г Москва, Московская кольцевая автомобильная д...  Восточное Измайлово   \n",
       "3     г Москва, Московская кольцевая автомобильная д...             Строгино   \n",
       "4                        г Москва, ш Носовихинское, 1км           Новокосино   \n",
       "...                                                 ...                  ...   \n",
       "4076                         г Балашиха, ул Звездная, 4             Балашиха   \n",
       "4077  г Балашиха, А-103 Щелковское шоссе Москва - Ще...             Балашиха   \n",
       "4078                   г Балашиха, ул Текстильщиков, 15             Балашиха   \n",
       "4079  г Балашиха, MКАД-ЖЕЛЕЗНОДОРОЖНЫЙ-ЛИКИНО-ДУЛЕВО...             Балашиха   \n",
       "4080  г Балашиха, МКАД-Крутицы-Железнодорожный-Ликин...             Балашиха   \n",
       "\n",
       "      Кол-во ДТП по данному адресу  \\\n",
       "0                               14   \n",
       "1                               10   \n",
       "2                               22   \n",
       "3                               20   \n",
       "4                                6   \n",
       "...                            ...   \n",
       "4076                             6   \n",
       "4077                            10   \n",
       "4078                             7   \n",
       "4079                             8   \n",
       "4080                             5   \n",
       "\n",
       "      Отношение кол-ва ДТП по данному адресу ко всем ДТП в Москве  Легкий  \\\n",
       "0                                              0.000133                 9   \n",
       "1                                              0.000095               100   \n",
       "2                                              0.000210                17   \n",
       "3                                              0.000191                16   \n",
       "4                                              0.000057                 5   \n",
       "...                                                 ...               ...   \n",
       "4076                                           0.000057                 4   \n",
       "4077                                           0.000095                 5   \n",
       "4078                                           0.000067                 4   \n",
       "4079                                           0.000076                 3   \n",
       "4080                                           0.000048                 0   \n",
       "\n",
       "      Тяжёлый  С погибшими  Иной вид ДТП  Наезд на велосипедиста  \\\n",
       "0           5            0             0                       0   \n",
       "1          13            6             0                       1   \n",
       "2           3            2             2                       0   \n",
       "3           4            0             0                       0   \n",
       "4           0            1             0                       0   \n",
       "...       ...          ...           ...                     ...   \n",
       "4076        2            0             0                       1   \n",
       "4077        5            0             0                       0   \n",
       "4078        3            0             0                       0   \n",
       "4079        4            1             0                       0   \n",
       "4080        4            1             0                       0   \n",
       "\n",
       "      Наезд на пешехода  ...  Наезд на стоящее ТС  Опрокидывание  \\\n",
       "0                     0  ...                    3              0   \n",
       "1                    24  ...                    2              2   \n",
       "2                     1  ...                    6              0   \n",
       "3                     0  ...                    3              0   \n",
       "4                     0  ...                    1              0   \n",
       "...                 ...  ...                  ...            ...   \n",
       "4076                  5  ...                    0              0   \n",
       "4077                  3  ...                    0              0   \n",
       "4078                  1  ...                    0              0   \n",
       "4079                  2  ...                    1              0   \n",
       "4080                  0  ...                    0              1   \n",
       "\n",
       "      Падение пассажира  Столкновение  Съезд с дороги     Широта    Долгота  \\\n",
       "0                     0            11               0  55.579467  37.583253   \n",
       "1                     8            66               0  55.871109  37.711612   \n",
       "2                     1             9               0  55.800340  37.839965   \n",
       "3                     0            16               0  55.797798  37.380348   \n",
       "4                     0             4               0  55.744075  37.843950   \n",
       "...                 ...           ...             ...        ...        ...   \n",
       "4076                  0             0               0  55.821261  37.835578   \n",
       "4077                  1             6               0  55.825600  37.890800   \n",
       "4078                  0             6               0  55.812436  37.965840   \n",
       "4079                  0             5               0  55.753091  38.096150   \n",
       "4080                  0             4               0  55.735919  38.073206   \n",
       "\n",
       "      Среднее значение тяжести  Индекс  Класс опасности  \n",
       "0                     1.357143      19                2  \n",
       "1                     1.210084      12                2  \n",
       "2                     1.318182      29                3  \n",
       "3                     1.200000      24                2  \n",
       "4                     1.333333       8                1  \n",
       "...                        ...     ...              ...  \n",
       "4076                  1.333333       8                1  \n",
       "4077                  1.500000      15                2  \n",
       "4078                  1.428571      10                1  \n",
       "4079                  1.750000      14                2  \n",
       "4080                  2.200000      11                1  \n",
       "\n",
       "[4081 rows x 21 columns]"
      ]
     },
     "execution_count": 3,
     "metadata": {},
     "output_type": "execute_result"
    }
   ],
   "source": [
    "df"
   ]
  },
  {
   "cell_type": "code",
   "execution_count": 4,
   "metadata": {},
   "outputs": [],
   "source": [
    "df2 = df.groupby(['Район']).size().reset_index(name='Кол-во ДТП в рейоне')\n",
    "df2 = df2.sort_values('Кол-во ДТП в рейоне').reset_index()\n",
    "df2 = df2.tail(10)"
   ]
  },
  {
   "cell_type": "code",
   "execution_count": 5,
   "metadata": {},
   "outputs": [
    {
     "data": {
      "text/plain": [
       "<matplotlib.axes._subplots.AxesSubplot at 0x25c76801fd0>"
      ]
     },
     "execution_count": 5,
     "metadata": {},
     "output_type": "execute_result"
    },
    {
     "data": {
      "image/png": "[encoded data removed]",
      "text/plain": [
       "<Figure size 720x360 with 1 Axes>"
      ]
     },
     "metadata": {
      "needs_background": "light"
     },
     "output_type": "display_data"
    }
   ],
   "source": [
    "y = df2['Район']\n",
    "x = df2['Кол-во ДТП в рейоне']\n",
    "dims = (10, 5)\n",
    "fig, ax = pyplot.subplots(figsize=dims)\n",
    "sns.barplot(ax=ax, x=x, y=y)"
   ]
  },
  {
   "cell_type": "code",
   "execution_count": 6,
   "metadata": {},
   "outputs": [],
   "source": [
    "df = pd.read_csv('dfMoscow.csv')\n",
    "df = df.drop(['Unnamed: 0'], axis = 1)"
   ]
  },
  {
   "cell_type": "code",
   "execution_count": 7,
   "metadata": {},
   "outputs": [
    {
     "data": {
      "text/html": [
       "<div>\n",
       "<style scoped>\n",
       "    .dataframe tbody tr th:only-of-type {\n",
       "        vertical-align: middle;\n",
       "    }\n",
       "\n",
       "    .dataframe tbody tr th {\n",
       "        vertical-align: top;\n",
       "    }\n",
       "\n",
       "    .dataframe thead th {\n",
       "        text-align: right;\n",
       "    }\n",
       "</style>\n",
       "<table border=\"1\" class=\"dataframe\">\n",
       "  <thead>\n",
       "    <tr style=\"text-align: right;\">\n",
       "      <th></th>\n",
       "      <th>properties.severity</th>\n",
       "      <th>Кол-во ДТП</th>\n",
       "    </tr>\n",
       "  </thead>\n",
       "  <tbody>\n",
       "    <tr>\n",
       "      <th>0</th>\n",
       "      <td>Легкий</td>\n",
       "      <td>64066</td>\n",
       "    </tr>\n",
       "    <tr>\n",
       "      <th>1</th>\n",
       "      <td>С погибшими</td>\n",
       "      <td>9794</td>\n",
       "    </tr>\n",
       "    <tr>\n",
       "      <th>2</th>\n",
       "      <td>Тяжёлый</td>\n",
       "      <td>38688</td>\n",
       "    </tr>\n",
       "  </tbody>\n",
       "</table>\n",
       "</div>"
      ],
      "text/plain": [
       "  properties.severity  Кол-во ДТП\n",
       "0              Легкий       64066\n",
       "1         С погибшими        9794\n",
       "2             Тяжёлый       38688"
      ]
     },
     "execution_count": 7,
     "metadata": {},
     "output_type": "execute_result"
    }
   ],
   "source": [
    "df_severity = df.groupby(['properties.severity']).size().reset_index(name='Кол-во ДТП')\n",
    "df_severity"
   ]
  },
  {
   "cell_type": "code",
   "execution_count": 8,
   "metadata": {},
   "outputs": [
    {
     "data": {
      "text/plain": [
       "([<matplotlib.patches.Wedge at 0x25c77c08b50>,\n",
       "  <matplotlib.patches.Wedge at 0x25c77c08fd0>,\n",
       "  <matplotlib.patches.Wedge at 0x25c77c176d0>],\n",
       " [Text(-1.0740837452425112, -0.23736913911842178, 'Легкий'),\n",
       "  Text(1.0982828809778464, -0.06143869587647337, 'Тяжёлый'),\n",
       "  Text(0.3239888052847348, 1.1554355257002316, 'С погибшими')],\n",
       " [Text(-0.5858638610413697, -0.12947407588277549, '56.9%'),\n",
       "  Text(0.5990633896242799, -0.03351201593262183, '34.4%'),\n",
       "  Text(0.18899346974942863, 0.6740040566584683, '8.7%')])"
      ]
     },
     "execution_count": 8,
     "metadata": {},
     "output_type": "execute_result"
    },
    {
     "data": {
      "image/png": "[encoded data removed]",
      "text/plain": [
       "<Figure size 432x288 with 1 Axes>"
      ]
     },
     "metadata": {},
     "output_type": "display_data"
    }
   ],
   "source": [
    "df1 = pd.DataFrame(df['properties.severity'].value_counts().reset_index())\n",
    "explode = (0, 0, 0.1)\n",
    "colors = ( \"cyan\", \"orange\", \"red\") \n",
    "pyplot.pie(data=df1,x='properties.severity',labels='index', autopct='%.1f%%', explode=explode, startangle=90, colors = colors)"
   ]
  },
  {
   "cell_type": "code",
   "execution_count": 9,
   "metadata": {},
   "outputs": [],
   "source": [
    "category = ['Иной вид ДТП', 'Съезд с дороги', 'Опрокидывание', 'Наезд на велосипедиста', 'Падение пассажира', 'Наезд на стоящее ТС', 'Наезд на препятствие', 'Наезд на пешехода', 'Столкновение']\n",
    "for i in range(0, len(df['properties.category'])):\n",
    "    if df.loc[i]['properties.category'] not in category:\n",
    "        df.at[i, 'properties.category'] = 'Иной вид ДТП'"
   ]
  },
  {
   "cell_type": "code",
   "execution_count": 10,
   "metadata": {},
   "outputs": [
    {
     "data": {
      "text/html": [
       "<div>\n",
       "<style scoped>\n",
       "    .dataframe tbody tr th:only-of-type {\n",
       "        vertical-align: middle;\n",
       "    }\n",
       "\n",
       "    .dataframe tbody tr th {\n",
       "        vertical-align: top;\n",
       "    }\n",
       "\n",
       "    .dataframe thead th {\n",
       "        text-align: right;\n",
       "    }\n",
       "</style>\n",
       "<table border=\"1\" class=\"dataframe\">\n",
       "  <thead>\n",
       "    <tr style=\"text-align: right;\">\n",
       "      <th></th>\n",
       "      <th>properties.category</th>\n",
       "      <th>Кол-во ДТП</th>\n",
       "    </tr>\n",
       "  </thead>\n",
       "  <tbody>\n",
       "    <tr>\n",
       "      <th>0</th>\n",
       "      <td>Иной вид ДТП</td>\n",
       "      <td>612</td>\n",
       "    </tr>\n",
       "    <tr>\n",
       "      <th>8</th>\n",
       "      <td>Съезд с дороги</td>\n",
       "      <td>1251</td>\n",
       "    </tr>\n",
       "    <tr>\n",
       "      <th>5</th>\n",
       "      <td>Опрокидывание</td>\n",
       "      <td>2674</td>\n",
       "    </tr>\n",
       "    <tr>\n",
       "      <th>1</th>\n",
       "      <td>Наезд на велосипедиста</td>\n",
       "      <td>3422</td>\n",
       "    </tr>\n",
       "    <tr>\n",
       "      <th>6</th>\n",
       "      <td>Падение пассажира</td>\n",
       "      <td>3642</td>\n",
       "    </tr>\n",
       "    <tr>\n",
       "      <th>4</th>\n",
       "      <td>Наезд на стоящее ТС</td>\n",
       "      <td>4872</td>\n",
       "    </tr>\n",
       "    <tr>\n",
       "      <th>3</th>\n",
       "      <td>Наезд на препятствие</td>\n",
       "      <td>7443</td>\n",
       "    </tr>\n",
       "    <tr>\n",
       "      <th>2</th>\n",
       "      <td>Наезд на пешехода</td>\n",
       "      <td>37765</td>\n",
       "    </tr>\n",
       "    <tr>\n",
       "      <th>7</th>\n",
       "      <td>Столкновение</td>\n",
       "      <td>50867</td>\n",
       "    </tr>\n",
       "  </tbody>\n",
       "</table>\n",
       "</div>"
      ],
      "text/plain": [
       "      properties.category  Кол-во ДТП\n",
       "0            Иной вид ДТП         612\n",
       "8          Съезд с дороги        1251\n",
       "5           Опрокидывание        2674\n",
       "1  Наезд на велосипедиста        3422\n",
       "6       Падение пассажира        3642\n",
       "4     Наезд на стоящее ТС        4872\n",
       "3    Наезд на препятствие        7443\n",
       "2       Наезд на пешехода       37765\n",
       "7            Столкновение       50867"
      ]
     },
     "execution_count": 10,
     "metadata": {},
     "output_type": "execute_result"
    }
   ],
   "source": [
    "df2 = df.groupby(['properties.category']).size().reset_index(name='Кол-во ДТП')\n",
    "df2.sort_values(by='Кол-во ДТП')"
   ]
  },
  {
   "cell_type": "code",
   "execution_count": 11,
   "metadata": {},
   "outputs": [],
   "source": [
    "df_cat = df.groupby(['properties.category']).size().reset_index(name='Кол-во ДТП')\n",
    "df_cat = df_cat.sort_values(by ='Кол-во ДТП')"
   ]
  },
  {
   "cell_type": "code",
   "execution_count": 12,
   "metadata": {},
   "outputs": [],
   "source": [
    "df_cat = df_cat.tail(9)"
   ]
  },
  {
   "cell_type": "code",
   "execution_count": 13,
   "metadata": {},
   "outputs": [
    {
     "data": {
      "text/plain": [
       "<matplotlib.axes._subplots.AxesSubplot at 0x25c77c3fa30>"
      ]
     },
     "execution_count": 13,
     "metadata": {},
     "output_type": "execute_result"
    },
    {
     "data": {
      "image/png": "[encoded data removed]",
      "text/plain": [
       "<Figure size 720x720 with 1 Axes>"
      ]
     },
     "metadata": {
      "needs_background": "light"
     },
     "output_type": "display_data"
    }
   ],
   "source": [
    "y = df_cat['properties.category']\n",
    "x = df_cat['Кол-во ДТП']\n",
    "dims = (10, 10)\n",
    "fig, ax = pyplot.subplots(figsize=dims)\n",
    "sns.barplot(x=x, y=y)"
   ]
  },
  {
   "cell_type": "code",
   "execution_count": 14,
   "metadata": {},
   "outputs": [
    {
     "data": {
      "text/plain": [
       "([<matplotlib.patches.Wedge at 0x25c77efb490>,\n",
       "  <matplotlib.patches.Wedge at 0x25c77efb940>,\n",
       "  <matplotlib.patches.Wedge at 0x25c77efbfd0>,\n",
       "  <matplotlib.patches.Wedge at 0x25c77f0a6d0>,\n",
       "  <matplotlib.patches.Wedge at 0x25c77f0ad60>,\n",
       "  <matplotlib.patches.Wedge at 0x25c77cc6430>,\n",
       "  <matplotlib.patches.Wedge at 0x25c77cc6ac0>,\n",
       "  <matplotlib.patches.Wedge at 0x25c77cd3190>,\n",
       "  <matplotlib.patches.Wedge at 0x25c77cd3850>],\n",
       " [Text(0.4961721673449934, 3.2624857364212603, 'Столкновение'),\n",
       "  Text(-2.409409334766551, -2.2549382824236694, 'Наезд на пешехода'),\n",
       "  Text(1.4157542401805632, -2.9808790534690868, 'Наезд на препятствие'),\n",
       "  Text(2.337552111415899, -2.329345428744967, 'Наезд на стоящее ТС'),\n",
       "  Text(2.820232978749631, -1.713559437420537, 'Падение пассажира'),\n",
       "  Text(3.1012795172125767, -1.1278587483003935, 'Наезд на велосипедиста'),\n",
       "  Text(3.2474814090594486, -0.586399605911584, 'Опрокидывание'),\n",
       "  Text(3.292127972917838, -0.22780125094452075, 'Съезд с дороги'),\n",
       "  Text(5.299226668887261, -0.09053569325976588, 'Иной вид ДТП')],\n",
       " [Text(0.27063936400636, 1.7795376744115963, '45.2%'),\n",
       "  Text(-1.3142232735090276, -1.2299663358674557, '33.6%'),\n",
       "  Text(0.7722295855530343, -1.625934029164956, '6.6%'),\n",
       "  Text(1.275028424408672, -1.2705520520427092, '4.3%'),\n",
       "  Text(1.5383088974997983, -0.9346687840475655, '3.2%'),\n",
       "  Text(1.6916070093886777, -0.6151956808911236, '3.0%'),\n",
       "  Text(1.771353495850608, -0.3198543304972276, '2.4%'),\n",
       "  Text(1.7957061670460932, -0.12425522778792039, '1.1%'),\n",
       "  Text(3.7994455361833186, -0.0649123838466246, '0.5%')])"
      ]
     },
     "execution_count": 14,
     "metadata": {},
     "output_type": "execute_result"
    },
    {
     "data": {
      "image/png": "[encoded data removed]",
      "text/plain": [
       "<Figure size 432x288 with 1 Axes>"
      ]
     },
     "metadata": {},
     "output_type": "display_data"
    }
   ],
   "source": [
    "df1 = pd.DataFrame(df['properties.category'].value_counts().reset_index())\n",
    "explode = (0, 0, 0, 0,0,0,0,0,2)\n",
    "colors = ( \"cyan\", \"orange\", \"red\") \n",
    "pyplot.pie(data=df1,x='properties.category',labels='index', autopct='%.1f%%', radius=3, explode = explode)"
   ]
  },
  {
   "cell_type": "code",
   "execution_count": 15,
   "metadata": {},
   "outputs": [],
   "source": [
    "x1 = df['properties.participants_count'].sum()\n",
    "x2 = df['properties.injured_count'].sum()\n",
    "x3 = df['properties.dead_count'].sum()"
   ]
  },
  {
   "cell_type": "code",
   "execution_count": 16,
   "metadata": {},
   "outputs": [],
   "source": [
    "x4 = x1 - (x2+x3) "
   ]
  },
  {
   "cell_type": "code",
   "execution_count": 17,
   "metadata": {},
   "outputs": [
    {
     "data": {
      "text/plain": [
       "132245"
      ]
     },
     "execution_count": 17,
     "metadata": {},
     "output_type": "execute_result"
    }
   ],
   "source": [
    "x4"
   ]
  },
  {
   "cell_type": "code",
   "execution_count": 18,
   "metadata": {},
   "outputs": [],
   "source": [
    "import numpy as np"
   ]
  },
  {
   "cell_type": "code",
   "execution_count": 19,
   "metadata": {},
   "outputs": [],
   "source": [
    "y = np.array([x4, x2, x3])\n",
    "mylabels = [\"кол-во не пострадавших участников ДТП\", \"кол-во раненых в ДТП\", \"кол-во погибших в ДТП\"]"
   ]
  },
  {
   "cell_type": "code",
   "execution_count": 20,
   "metadata": {},
   "outputs": [
    {
     "data": {
      "text/plain": [
       "([<matplotlib.patches.Wedge at 0x25c77d1c220>,\n",
       "  <matplotlib.patches.Wedge at 0x25c77d1c700>,\n",
       "  <matplotlib.patches.Wedge at 0x25c77d1cd90>],\n",
       " [Text(0.05937594855752962, 1.098396329533604, 'кол-во не пострадавших участников ДТП'),\n",
       "  Text(-0.1953034666527008, -1.0825232357383547, 'кол-во раненых в ДТП'),\n",
       "  Text(2.0837482321624696, -0.26075525873849914, 'кол-во погибших в ДТП')],\n",
       " [Text(0.03238688103137979, 0.5991252706546931, '48.3%'),\n",
       "  Text(-0.10652916362874587, -0.590467219493648, '47.8%'),\n",
       "  Text(1.587617700695215, -0.19867067332457075, '4.0%')])"
      ]
     },
     "execution_count": 20,
     "metadata": {},
     "output_type": "execute_result"
    },
    {
     "data": {
      "image/png": "[encoded data removed]",
      "text/plain": [
       "<Figure size 432x288 with 1 Axes>"
      ]
     },
     "metadata": {},
     "output_type": "display_data"
    }
   ],
   "source": [
    "explode = (0, 0, 1)\n",
    "colors = ( \"yellow\", \"orange\", \"red\") \n",
    "pyplot.pie(y, labels = mylabels, colors=colors, explode = explode, autopct='%.1f%%')"
   ]
  },
  {
   "cell_type": "code",
   "execution_count": 21,
   "metadata": {},
   "outputs": [
    {
     "data": {
      "text/plain": [
       "\"[{'year': 2016, 'brand': 'HYUNDAI', 'color': 'Желтый', 'model': 'Solaris', 'category': 'Прочие легковые автомобили', 'participants': [{'role': 'Водитель', 'gender': 'Мужской', 'violations': ['Нарушение правил проезда пешеходного перехода', 'Другие нарушения ПДД водителем'], 'health_status': 'Не пострадал', 'years_of_driving_experience': 6}]}]\""
      ]
     },
     "execution_count": 21,
     "metadata": {},
     "output_type": "execute_result"
    }
   ],
   "source": [
    "df.loc[0]['properties.vehicles']"
   ]
  },
  {
   "cell_type": "code",
   "execution_count": 22,
   "metadata": {},
   "outputs": [],
   "source": [
    "violations = ['Несоответствие скорости конкретным условиям движения',\n",
    "              'Отказ водителя от прохождения медицинского освидетельствования на состояние опьянения',\n",
    "              'Нарушение требований линий разметки',\n",
    "              'Нарушение правил расположения ТС на проезжей части',\n",
    "              'Неправильный выбор дистанции',\n",
    "              'Нарушение требований сигналов светофора']"
   ]
  },
  {
   "cell_type": "code",
   "execution_count": null,
   "metadata": {},
   "outputs": [],
   "source": []
  },
  {
   "cell_type": "code",
   "execution_count": null,
   "metadata": {},
   "outputs": [],
   "source": []
  }
 ],
 "metadata": {
  "kernelspec": {
   "display_name": "Python 3",
   "language": "python",
   "name": "python3"
  },
  "language_info": {
   "codemirror_mode": {
    "name": "ipython",
    "version": 3
   },
   "file_extension": ".py",
   "mimetype": "text/x-python",
   "name": "python",
   "nbconvert_exporter": "python",
   "pygments_lexer": "ipython3",
   "version": "3.8.3"
  }
 },
 "nbformat": 4,
 "nbformat_minor": 5
}
